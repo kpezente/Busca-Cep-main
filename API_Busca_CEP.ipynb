{
 "cells": [
  {
   "cell_type": "markdown",
   "id": "7e57525e",
   "metadata": {},
   "source": [
    "### Via CEP\n",
    "\n",
    "https://viacep.com.br/"
   ]
  },
  {
   "cell_type": "code",
   "execution_count": 41,
   "id": "8d16f23c",
   "metadata": {},
   "outputs": [],
   "source": [
    "import requests\n",
    "import pandas as pd"
   ]
  },
  {
   "cell_type": "markdown",
   "id": "84f1d631",
   "metadata": {},
   "source": [
    "#### Consulta de informações de um CEP"
   ]
  },
  {
   "cell_type": "code",
   "execution_count": null,
   "id": "fe813e51",
   "metadata": {},
   "outputs": [
    {
     "name": "stdout",
     "output_type": "stream",
     "text": [
      "cep: 91920510 \n",
      "Endereço: Rua Delfina da Cunha \n",
      "Bairro: Camaquã \n",
      "Cidade: Porto Alegre \n",
      "UF: RS \n",
      "\n"
     ]
    }
   ],
   "source": [
    "#fórmula para limpar o cep de caracteres especiais\n",
    "def arrumar_cep(cep):\n",
    "  if cep:\n",
    "    cep = cep.strip()\n",
    "    cep = cep.replace('-', '')\n",
    "    cep = cep.replace('/', '')\n",
    "    cep = cep.replace('.', '')\n",
    "    return cep\n",
    "\n",
    "#Input para informar o cep a ser pesquisado.\n",
    "cep = input('Informe o CEP para consulta:')\n",
    "#O cep recebe a def para limpar os caracteres e espaços\n",
    "cep = arrumar_cep(cep)\n",
    "#Validando o cep com o número correto de caracteres.\n",
    "if len(cep) < 8:\n",
    "  print('Cep inválido (menos de 8 digitos.)')\n",
    "elif len(cep) > 8:\n",
    "  print('Cep inválido (maior de 8 digitos.)')\n",
    "else:\n",
    "  #link da API + o cep informado\n",
    "  link = 'https://cep.awesomeapi.com.br/json/' + cep\n",
    "  #Buscando a requisição da API\n",
    "  requisicao = requests.get(link)\n",
    "  #Transformando .json em dicionário python\n",
    "  cep_dic = requisicao.json()\n",
    "  #Printando as informações do cep\n",
    "  print('cep:', cep_dic['cep'], '\\n'\n",
    "      'Endereço:', cep_dic['address'], '\\n'\n",
    "      'Bairro:', cep_dic['district'], '\\n'\n",
    "      'Cidade:', cep_dic['city'], '\\n'\n",
    "      'UF:', cep_dic['state'], '\\n'\n",
    "  )\n"
   ]
  },
  {
   "cell_type": "markdown",
   "id": "0abd6940",
   "metadata": {},
   "source": [
    "#### Busca de CEP a partir de endereço\n",
    "\n",
    "viacep.com.br/ws/RS/Porto Alegre/Domingos/json/\n",
    "\n",
    "viacep.com.br/ws/RS/Porto Alegre/Domingos Jose/json/\n",
    "\n",
    "viacep.com.br/ws/RS/Porto Alegre/Domingos+Jose/json/"
   ]
  },
  {
   "cell_type": "code",
   "execution_count": null,
   "id": "270edfa9",
   "metadata": {},
   "outputs": [
    {
     "name": "stdout",
     "output_type": "stream",
     "text": [
      "Cep: 91920-510 \n",
      "Endereco: Rua Delfina da Cunha \n",
      "Bairro: Camaquã \n",
      "Cidade: Porto Alegre \n",
      "Estado: Rio Grande do Sul , UF: RS \n",
      "-------\n",
      "Cep: 91750-280 \n",
      "Endereco: Rua Delfina Fusquini Sirianni \n",
      "Bairro: Vila Nova \n",
      "Cidade: Porto Alegre \n",
      "Estado: Rio Grande do Sul , UF: RS \n",
      "-------\n"
     ]
    }
   ],
   "source": [
    "#Função para arrumar o UF digitado\n",
    "def arrumar_uf(uf):\n",
    "  uf = uf.upper()\n",
    "  return uf\n",
    "\n",
    "#Função para arrumar a cidade e o endereço digitado\n",
    "def arrumar_dados(cidade, endereco):\n",
    "  cidade = cidade.capitalize()\n",
    "  cidade = cidade.replace(' ', '+')\n",
    "  return cidade, endereco\n",
    "\n",
    "#Função de input para a pesquisa\n",
    "def pesquisar():\n",
    "  uf = input('Informe o estado:')\n",
    "  cidade = input('informe a cidade:')\n",
    "  endereco = input('informe o endereco:')\n",
    "  return uf, cidade, endereco\n",
    "\n",
    "#Chamando as funções\n",
    "uf, cidade, endereco = pesquisar()\n",
    "arrumar_uf(uf)\n",
    "arrumar_dados(cidade, endereco)\n",
    "\n",
    "\n",
    "#Link para procurar o endereço pelo UF, Cidade e Endereço.\n",
    "link_address = f'https://viacep.com.br/ws/{uf}/{cidade}/{endereco}/json/'\n",
    "\n",
    "#Buscando a requisição da API\n",
    "requisicao = requests.get(link_address)\n",
    "\n",
    "#Transformando .json em dicionário python\n",
    "endereco_info = requisicao.json()\n",
    "\n",
    "#Para caso ache mais de um endereço, mostrar todos\n",
    "for endereco in endereco_info:\n",
    "  print('Cep:', endereco['cep'], '\\n'\n",
    "        'Endereco:', endereco['logradouro'], '\\n'\n",
    "        'Bairro:', endereco['bairro'], '\\n'\n",
    "        'Cidade:', endereco['localidade'], '\\n'\n",
    "        'Estado:', endereco['estado'], ',', 'UF:', endereco['uf'], '\\n'\n",
    "        '-------'   \n",
    " )\n",
    "\n",
    "\n"
   ]
  },
  {
   "cell_type": "code",
   "execution_count": 42,
   "id": "87126086",
   "metadata": {},
   "outputs": [
    {
     "data": {
      "text/html": [
       "<div>\n",
       "<style scoped>\n",
       "    .dataframe tbody tr th:only-of-type {\n",
       "        vertical-align: middle;\n",
       "    }\n",
       "\n",
       "    .dataframe tbody tr th {\n",
       "        vertical-align: top;\n",
       "    }\n",
       "\n",
       "    .dataframe thead th {\n",
       "        text-align: right;\n",
       "    }\n",
       "</style>\n",
       "<table border=\"1\" class=\"dataframe\">\n",
       "  <thead>\n",
       "    <tr style=\"text-align: right;\">\n",
       "      <th></th>\n",
       "      <th>cep</th>\n",
       "      <th>logradouro</th>\n",
       "      <th>complemento</th>\n",
       "      <th>unidade</th>\n",
       "      <th>bairro</th>\n",
       "      <th>localidade</th>\n",
       "      <th>uf</th>\n",
       "      <th>estado</th>\n",
       "      <th>regiao</th>\n",
       "      <th>ibge</th>\n",
       "      <th>gia</th>\n",
       "      <th>ddd</th>\n",
       "      <th>siafi</th>\n",
       "    </tr>\n",
       "  </thead>\n",
       "  <tbody>\n",
       "    <tr>\n",
       "      <th>0</th>\n",
       "      <td>91920-510</td>\n",
       "      <td>Rua Delfina da Cunha</td>\n",
       "      <td></td>\n",
       "      <td></td>\n",
       "      <td>Camaquã</td>\n",
       "      <td>Porto Alegre</td>\n",
       "      <td>RS</td>\n",
       "      <td>Rio Grande do Sul</td>\n",
       "      <td>Sul</td>\n",
       "      <td>4314902</td>\n",
       "      <td></td>\n",
       "      <td>51</td>\n",
       "      <td>8801</td>\n",
       "    </tr>\n",
       "    <tr>\n",
       "      <th>1</th>\n",
       "      <td>91750-280</td>\n",
       "      <td>Rua Delfina Fusquini Sirianni</td>\n",
       "      <td></td>\n",
       "      <td></td>\n",
       "      <td>Vila Nova</td>\n",
       "      <td>Porto Alegre</td>\n",
       "      <td>RS</td>\n",
       "      <td>Rio Grande do Sul</td>\n",
       "      <td>Sul</td>\n",
       "      <td>4314902</td>\n",
       "      <td></td>\n",
       "      <td>51</td>\n",
       "      <td>8801</td>\n",
       "    </tr>\n",
       "  </tbody>\n",
       "</table>\n",
       "</div>"
      ],
      "text/plain": [
       "         cep                     logradouro complemento unidade     bairro  \\\n",
       "0  91920-510           Rua Delfina da Cunha                        Camaquã   \n",
       "1  91750-280  Rua Delfina Fusquini Sirianni                      Vila Nova   \n",
       "\n",
       "     localidade  uf             estado regiao     ibge gia ddd siafi  \n",
       "0  Porto Alegre  RS  Rio Grande do Sul    Sul  4314902      51  8801  \n",
       "1  Porto Alegre  RS  Rio Grande do Sul    Sul  4314902      51  8801  "
      ]
     },
     "metadata": {},
     "output_type": "display_data"
    }
   ],
   "source": [
    "tabela_enderecos = pd.DataFrame(endereco_info)\n",
    "display(tabela_enderecos)"
   ]
  }
 ],
 "metadata": {
  "kernelspec": {
   "display_name": "base",
   "language": "python",
   "name": "python3"
  },
  "language_info": {
   "codemirror_mode": {
    "name": "ipython",
    "version": 3
   },
   "file_extension": ".py",
   "mimetype": "text/x-python",
   "name": "python",
   "nbconvert_exporter": "python",
   "pygments_lexer": "ipython3",
   "version": "3.12.4"
  }
 },
 "nbformat": 4,
 "nbformat_minor": 5
}
