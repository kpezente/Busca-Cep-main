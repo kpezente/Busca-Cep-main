{
 "cells": [
  {
   "cell_type": "markdown",
   "id": "7e57525e",
   "metadata": {},
   "source": [
    "### Via CEP\n",
    "\n",
    "https://viacep.com.br/"
   ]
  },
  {
   "cell_type": "markdown",
   "id": "84f1d631",
   "metadata": {},
   "source": [
    "#### Consulta de informações de um CEP"
   ]
  },
  {
   "cell_type": "code",
   "execution_count": 6,
   "id": "fe813e51",
   "metadata": {},
   "outputs": [
    {
     "name": "stdout",
     "output_type": "stream",
     "text": [
      "cep: 91920510 \n",
      "Endereço: Rua Delfina da Cunha \n",
      "Bairro: Camaquã \n",
      "Cidade: Porto Alegre \n",
      "UF: RS \n",
      "\n"
     ]
    }
   ],
   "source": [
    "import requests\n",
    "\n",
    "#fórmula para limpar o cep de caracteres especiais\n",
    "def arrumar_cep(cep):\n",
    "  if cep:\n",
    "    cep = cep.strip()\n",
    "    cep = cep.replace('-', '')\n",
    "    cep = cep.replace('/', '')\n",
    "    cep = cep.replace('.', '')\n",
    "    return cep\n",
    "\n",
    "#Input para informar o cep a ser pesquisado.\n",
    "cep = input('Informe o CEP para consulta:')\n",
    "#O cep recebe a def para limpar os caracteres e espaços\n",
    "cep = arrumar_cep(cep)\n",
    "#Validando o cep com o número correto de caracteres.\n",
    "if len(cep) < 8:\n",
    "  print('Cep inválido (menos de 8 digitos.)')\n",
    "elif len(cep) > 8:\n",
    "  print('Cep inválido (maior de 8 digitos.)')\n",
    "else:\n",
    "  #link da API + o cep informado\n",
    "  link = 'https://cep.awesomeapi.com.br/json/' + cep\n",
    "  #Buscando a requisição da API\n",
    "  requisicao = requests.get(link)\n",
    "  #Transformando .json em dicionário python\n",
    "  cep_dic = requisicao.json()\n",
    "  #Printando as informações do cep\n",
    "  print('cep:', cep_dic['cep'], '\\n'\n",
    "      'Endereço:', cep_dic['address'], '\\n'\n",
    "      'Bairro:', cep_dic['district'], '\\n'\n",
    "      'Cidade:', cep_dic['city'], '\\n'\n",
    "      'UF:', cep_dic['state'], '\\n'\n",
    "  )\n"
   ]
  },
  {
   "cell_type": "markdown",
   "id": "0abd6940",
   "metadata": {},
   "source": [
    "#### Busca de CEP a partir de endereço\n",
    "\n",
    "viacep.com.br/ws/RS/Porto Alegre/Domingos/json/\n",
    "\n",
    "viacep.com.br/ws/RS/Porto Alegre/Domingos Jose/json/\n",
    "\n",
    "viacep.com.br/ws/RS/Porto Alegre/Domingos+Jose/json/"
   ]
  },
  {
   "cell_type": "code",
   "execution_count": null,
   "id": "270edfa9",
   "metadata": {},
   "outputs": [
    {
     "name": "stdout",
     "output_type": "stream",
     "text": [
      "Cep: 91920-510 \n",
      "Endereco: Rua Delfina da Cunha \n",
      "Bairro: Camaquã \n",
      "Cidade: Porto Alegre \n",
      "Estado: Rio Grande do Sul , UF: RS \n",
      "-------\n",
      "Cep: 91750-280 \n",
      "Endereco: Rua Delfina Fusquini Sirianni \n",
      "Bairro: Vila Nova \n",
      "Cidade: Porto Alegre \n",
      "Estado: Rio Grande do Sul , UF: RS \n",
      "-------\n"
     ]
    }
   ],
   "source": [
    "#Função para arrumar o UF digitado\n",
    "def arrumar_uf(uf):\n",
    "  uf = uf.upper()\n",
    "  return uf\n",
    "\n",
    "#Função para arrumar a cidade e o endereço digitado\n",
    "def arrumar_dados(cidade, endereco):\n",
    "  cidade = cidade.capitalize()\n",
    "  cidade = cidade.replace(' ', '+')\n",
    "  return cidade, endereco\n",
    "\n",
    "#Função de input para a pesquisa\n",
    "def pesquisar():\n",
    "  uf = input('Informe o estado:')\n",
    "  cidade = input('informe a cidade:')\n",
    "  endereco = input('informe o endereco:')\n",
    "  return uf, cidade, endereco\n",
    "\n",
    "#Chamando as funções\n",
    "uf, cidade, endereco = pesquisar()\n",
    "arrumar_uf(uf)\n",
    "arrumar_dados(cidade, endereco)\n",
    "\n",
    "\n",
    "#Link para procurar o endereço pelo UF, Cidade e Endereço.\n",
    "link_address = f'https://viacep.com.br/ws/{uf}/{cidade}/{endereco}/json/'\n",
    "\n",
    "#Buscando a requisição da API\n",
    "requisicao = requests.get(link_address)\n",
    "\n",
    "#Transformando .json em dicionário python\n",
    "endereco_info = requisicao.json()\n",
    "\n",
    "#Para caso ache mais de um endereço, mostrar todos\n",
    "for endereco in endereco_info:\n",
    "  print('Cep:', endereco['cep'], '\\n'\n",
    "        'Endereco:', endereco['logradouro'], '\\n'\n",
    "        'Bairro:', endereco['bairro'], '\\n'\n",
    "        'Cidade:', endereco['localidade'], '\\n'\n",
    "        'Estado:', endereco['estado'], ',', 'UF:', endereco['uf'], '\\n'\n",
    "        '-------'   \n",
    " )\n",
    "\n",
    "\n"
   ]
  }
 ],
 "metadata": {
  "kernelspec": {
   "display_name": "base",
   "language": "python",
   "name": "python3"
  },
  "language_info": {
   "codemirror_mode": {
    "name": "ipython",
    "version": 3
   },
   "file_extension": ".py",
   "mimetype": "text/x-python",
   "name": "python",
   "nbconvert_exporter": "python",
   "pygments_lexer": "ipython3",
   "version": "3.12.4"
  }
 },
 "nbformat": 4,
 "nbformat_minor": 5
}
