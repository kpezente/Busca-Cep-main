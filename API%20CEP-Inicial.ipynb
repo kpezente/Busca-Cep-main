{
 "cells": [
  {
   "cell_type": "markdown",
   "id": "7e57525e",
   "metadata": {},
   "source": [
    "### Via CEP\n",
    "\n",
    "https://viacep.com.br/"
   ]
  },
  {
   "cell_type": "markdown",
   "id": "84f1d631",
   "metadata": {},
   "source": [
    "#### Consulta de informações de um CEP"
   ]
  },
  {
   "cell_type": "code",
   "execution_count": null,
   "id": "fe813e51",
   "metadata": {},
   "outputs": [
    {
     "name": "stdout",
     "output_type": "stream",
     "text": [
      "cep: 91740830 \n",
      "Endereço: Estrada João Salomoni \n",
      "Bairro: Vila Nova \n",
      "Cidade: Porto Alegre \n",
      "UF: RS \n",
      "\n"
     ]
    }
   ],
   "source": [
    "import requests\n",
    "\n",
    "#fórmula para limpar o cep de caracteres especiais\n",
    "def arrumar_cep(cep):\n",
    "  cep = cep.strip()\n",
    "  cep = cep.replace('-', '')\n",
    "  cep = cep.replace('/', '')\n",
    "  cep = cep.replace('.', '')\n",
    "  return cep\n",
    "\n",
    "#Inpu para informar o cep a ser pesquisado.\n",
    "cep = input('Informe o CEP para consulta:')\n",
    "#O cep recebe a def para limpar os caracteres e espaços\n",
    "cep = arrumar_cep(cep)\n",
    "#link da API + o cep informado\n",
    "link = 'https://cep.awesomeapi.com.br/json/' + cep\n",
    "#Buscando a requisição da API\n",
    "requisicao = requests.get(link)\n",
    "#Transformando .json em dicionário python\n",
    "cep_dic = requisicao.json()\n",
    "#Printando as informações do cep\n",
    "print('cep:', cep_dic['cep'], '\\n'\n",
    "      'Endereço:', cep_dic['address'], '\\n'\n",
    "      'Bairro:', cep_dic['district'], '\\n'\n",
    "      'Cidade:', cep_dic['city'], '\\n'\n",
    "      'UF:', cep_dic['state'], '\\n'\n",
    ")\n"
   ]
  },
  {
   "cell_type": "markdown",
   "id": "0abd6940",
   "metadata": {},
   "source": [
    "#### Busca de CEP a partir de endereço"
   ]
  },
  {
   "cell_type": "code",
   "execution_count": null,
   "id": "270edfa9",
   "metadata": {},
   "outputs": [],
   "source": []
  }
 ],
 "metadata": {
  "kernelspec": {
   "display_name": "base",
   "language": "python",
   "name": "python3"
  },
  "language_info": {
   "codemirror_mode": {
    "name": "ipython",
    "version": 3
   },
   "file_extension": ".py",
   "mimetype": "text/x-python",
   "name": "python",
   "nbconvert_exporter": "python",
   "pygments_lexer": "ipython3",
   "version": "3.12.4"
  }
 },
 "nbformat": 4,
 "nbformat_minor": 5
}
